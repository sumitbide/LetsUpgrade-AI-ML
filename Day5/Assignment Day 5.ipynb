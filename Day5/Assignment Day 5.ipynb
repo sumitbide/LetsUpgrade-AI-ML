{
 "cells": [
  {
   "cell_type": "markdown",
   "metadata": {},
   "source": [
    "# Question 1 :\n",
    "Write a Python program to find the first 20 non-even prime natural numbers."
   ]
  },
  {
   "cell_type": "code",
   "execution_count": 68,
   "metadata": {},
   "outputs": [
    {
     "name": "stdout",
     "output_type": "stream",
     "text": [
      "Enter start:-1\n",
      "Enter end:-100\n",
      "1 ==> 3\n",
      "2 ==> 5\n",
      "3 ==> 7\n",
      "4 ==> 11\n",
      "5 ==> 13\n",
      "6 ==> 17\n",
      "7 ==> 19\n",
      "8 ==> 23\n",
      "9 ==> 29\n",
      "10 ==> 31\n",
      "11 ==> 37\n",
      "12 ==> 41\n",
      "13 ==> 43\n",
      "14 ==> 47\n",
      "15 ==> 53\n",
      "16 ==> 59\n",
      "17 ==> 61\n",
      "18 ==> 67\n",
      "19 ==> 71\n",
      "20 ==> 73\n"     ]
    }
   ],
   "source": [
    "n1=int(input(\"Enter start:-\"))\n",
    "n2=int(input(\"Enter end:-\"))\n",
    "p=1\n",
    "for n in range(n1,n2):\n",
    "    for i in range(2,n):\n",
    "        if(n%i)==0:\n",
    "             break\n",
    "    else:\n",
    "        if(n!=1):\n",
    "            if(n%2!=0):\n",
    "                if(p>20):\n",
    "                    break\n",
    "                print(p,\"==>\",n)\n",
    "                p=p+1"
   ]
  },
  {
   "cell_type": "markdown",
   "metadata": {},
   "source": [
    "# Question 2 :\n",
    "Write a Python program to implement 15 functions of string."
   ]
  },
  {
   "cell_type": "code",
   "execution_count": 50,
   "metadata": {},
   "outputs": [
    {
     "name": "stdout",
     "output_type": "stream",
     "text": [
      "13\n",
      "THIS IS AI-ML\n",
      "this is ai-ml\n",
      "tHIS IS ai-ml\n",
      "8\n",
      "False\n",
      "False\n",
      "Thiz iz AI-ML\n",
      "True\n",
      "2\n",
      "                                           This is AI-ML                                            \n",
      "This Is Ai-Ml\n",
      "this is ai-ml\n",
      "True\n",
      "True\n"
     ]
    }
   ],
   "source": [
    "str1=\"This is AI-ML\"\n",
    "\n",
    "print(len(str1))\n",
    "print(str1.upper()) \n",
    "print(str1.lower()) \n",
    "print(str1.swapcase()) \n",
    "print(str1.find('A'))\n",
    "print(str1.isalpha())\n",
    "print(str1.isnumeric())\n",
    "print(str1.replace('s','z'))\n",
    "print(str1.startswith('T'))\n",
    "print(str1.count(\"is\"))\n",
    "print(str1.center(100))\n",
    "print(str1.title())\n",
    "print(str1.casefold())\n",
    "print(str1.endswith(\"L\"))\n",
    "print(str1.isprintable())\n"
   ]
  },
  {
   "cell_type": "markdown",
   "metadata": {},
   "source": [
    "# Question 3:\n",
    "Write a Python program to check if the given string is a Palindrome or Anagram or None of them.\n",
    "Display the message accordingly to the user."
   ]
  },
  {
   "cell_type": "code",
   "execution_count": 2,
   "metadata": {},
   "outputs": [
    {
     "name": "stdout",
     "output_type": "stream",
     "text": [
      "Enter string:-nayan\n",
      "Palindrome string\n"
     ]
    }
   ],
   "source": [
    "def checkanagram(str1):\n",
    "    str2=input(\"Enter second string:-\")\n",
    "    if(len(str1)==len(str2)):\n",
    "        if(sorted(str1)==sorted(str2)):\n",
    "            return True\n",
    "    else:\n",
    "        return False\n",
    "    \n",
    "\n",
    "str1=input(\"Enter string:-\")\n",
    "\n",
    "rev_str=str1[::-1]\n",
    "\n",
    "if(str1==rev_str):\n",
    "    print(\"Palindrome string\")\n",
    "\n",
    "elif checkanagram(str1):\n",
    "    print(\"Anagram String\")\n",
    "\n",
    "else:\n",
    "    print(\"None of them\")\n",
    "    "
   ]
  },
  {
   "cell_type": "markdown",
   "metadata": {},
   "source": [
    "# Question 4:\n",
    "Write a Python's user defined function that removes all the additional characters from the string\n",
    "and converts it finally to lower case using built-in lower(). eg: If the string is \"Dr. Darshan Ingle\n",
    "@AI-ML Trainer\", then the output be \"drdarshaningleaimltrainer\"."
   ]
  },
  {
   "cell_type": "code",
   "execution_count": 5,
   "metadata": {},
   "outputs": [],
   "source": [
    "def removeall(str1):\n",
    "    s=''\n",
    "    for i in range(len(str1)):\n",
    "        if(str1[i].isalpha()):\n",
    "                s=s+str1[i]\n",
    "    s=s.lower()\n",
    "    return s "
   ]
  },
  {
   "cell_type": "code",
   "execution_count": 8,
   "metadata": {},
   "outputs": [
    {
     "data": {
      "text/plain": [
       "'drdarshaningleaimltrainer'"
      ]
     },
     "execution_count": 8,
     "metadata": {},
     "output_type": "execute_result"
    }
   ],
   "source": [
    "str1=\"Dr. Darshan Ingle @AI-ML Trainer\"\n",
    "removeall(str1)"
   ]
  }
 ],
 "metadata": {
  "kernelspec": {
   "display_name": "Python 3",
   "language": "python",
   "name": "python3"
  },
  "language_info": {
   "codemirror_mode": {
    "name": "ipython",
    "version": 3
   },
   "file_extension": ".py",
   "mimetype": "text/x-python",
   "name": "python",
   "nbconvert_exporter": "python",
   "pygments_lexer": "ipython3",
   "version": "3.7.6"
  }
 },
 "nbformat": 4,
 "nbformat_minor": 4
}
