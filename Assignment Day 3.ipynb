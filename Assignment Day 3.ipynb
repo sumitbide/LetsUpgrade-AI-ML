{
 "cells": [
  {
   "cell_type": "markdown",
   "metadata": {},
   "source": [
    "# Write a program to subtract two complex numbers in Python."
   ]
  },
  {
   "cell_type": "code",
   "execution_count": 4,
   "metadata": {},
   "outputs": [
    {
     "name": "stdout",
     "output_type": "stream",
     "text": [
      "a = (3+5j)\n",
      "b = (2+2j)\n",
      "Result is c = (1+3j)\n"
     ]
    }
   ],
   "source": [
    "a=3+5j\n",
    "b=2+2j\n",
    "c=a-b\n",
    "print(\"a =\",a)\n",
    "print(\"b =\",b)\n",
    "print(\"Result is c =\",c)"
   ]
  },
  {
   "cell_type": "markdown",
   "metadata": {},
   "source": [
    "# Write a program to find the fourth root of a number."
   ]
  },
  {
   "cell_type": "code",
   "execution_count": 58,
   "metadata": {},
   "outputs": [
    {
     "name": "stdout",
     "output_type": "stream",
     "text": [
      "fourth root of  625  is  5\n"
     ]
    }
   ],
   "source": [
    "no=625\n",
    "fourth_root=round(pow(no,1/4))\n",
    "print(\"fourth root of \",no,\" is \",fourth_root)"
   ]
  },
  {
   "cell_type": "markdown",
   "metadata": {},
   "source": [
    "# Write a program to swap two numbers in Python with the help of a temporary variable"
   ]
  },
  {
   "cell_type": "code",
   "execution_count": 7,
   "metadata": {},
   "outputs": [
    {
     "name": "stdout",
     "output_type": "stream",
     "text": [
      "\n",
      "Before Swap\n",
      "a = 10 b = 20\n",
      "\n",
      "After Swap\n",
      "a = 20 b = 10\n"
     ]
    }
   ],
   "source": [
    "a=10\n",
    "b=20\n",
    "print(\"\\nBefore Swap\")\n",
    "print(\"a =\",a,\"b =\",b)\n",
    "temp=a\n",
    "a=b\n",
    "b=temp\n",
    "print(\"\\nAfter Swap\")\n",
    "print(\"a =\",a,\"b =\",b)\n",
    "\n"
   ]
  },
  {
   "cell_type": "markdown",
   "metadata": {},
   "source": [
    "# Write a program to swap two numbers in Python without using a temporary variable."
   ]
  },
  {
   "cell_type": "code",
   "execution_count": 10,
   "metadata": {},
   "outputs": [
    {
     "name": "stdout",
     "output_type": "stream",
     "text": [
      "\n",
      "Before Swap\n",
      "a = 40 b = 50\n",
      "\n",
      "After Swap\n",
      "a = 50 b = 40\n"
     ]
    }
   ],
   "source": [
    "a=40\n",
    "b=50\n",
    "print(\"\\nBefore Swap\")\n",
    "print(\"a =\",a,\"b =\",b)\n",
    "a=a+b  \n",
    "b=a-b   \n",
    "a=a-b  \n",
    "print(\"\\nAfter Swap\")\n",
    "print(\"a =\",a,\"b =\",b)\n"
   ]
  },
  {
   "cell_type": "markdown",
   "metadata": {},
   "source": [
    "# Write a program to convert fahrenheit to kelvin and celsius both"
   ]
  },
  {
   "cell_type": "code",
   "execution_count": 22,
   "metadata": {},
   "outputs": [
    {
     "name": "stdout",
     "output_type": "stream",
     "text": [
      "50 fahrenheit to kelvin is:- 283.15\n",
      "50 fahrenheit to Celsius is:- 10.0\n"
     ]
    }
   ],
   "source": [
    "f=50\n",
    "kelvin = ((f - 32) / 1.8) + 273.15\n",
    "cel=(f-32)*(5/9)\n",
    "print(f,\"fahrenheit to kelvin is:-\",kelvin)\n",
    "print(f,\"fahrenheit to Celsius is:-\",cel)"
   ]
  },
  {
   "cell_type": "markdown",
   "metadata": {},
   "source": [
    "# Write a program to demonstrate all the available data types in Python. Hint: Use type() function."
   ]
  },
  {
   "cell_type": "code",
   "execution_count": 26,
   "metadata": {},
   "outputs": [
    {
     "name": "stdout",
     "output_type": "stream",
     "text": [
      "Type of a is  <class 'int'>\n",
      "Type of b is  <class 'str'>\n",
      "Type of c is  <class 'bool'>\n",
      "Type of d is  <class 'tuple'>\n",
      "Type of e is  <class 'list'>\n",
      "Type of f is  <class 'float'>\n"
     ]
    }
   ],
   "source": [
    "a=10\n",
    "b=\"hi\"\n",
    "c=True\n",
    "d=(a,b,c)\n",
    "e=[a,b,c]\n",
    "f=3.14\n",
    "\n",
    "print(\"Type of a is \",type(a))\n",
    "print(\"Type of b is \",type(b))\n",
    "print(\"Type of c is \",type(c))\n",
    "print(\"Type of d is \",type(d))\n",
    "print(\"Type of e is \",type(e))\n",
    "print(\"Type of f is \",type(f))"
   ]
  },
  {
   "cell_type": "markdown",
   "metadata": {},
   "source": [
    "# Create a Markdown cell in jupyter and list the steps discussed in the session by Dr. Darshan Ingle sir to create Github profile and upload Githubs Assignment link."
   ]
  },
  {
   "cell_type": "markdown",
   "metadata": {},
   "source": [
    "step1 - Open Github\n",
    "step2 - Login with Credential( New user can do registration first)\n",
    "step3 - Create New Github public Repository\n",
    "step4 - Name it LetsUpgrade AI/ML\n",
    "Step5 - Upload the files/solution in the repository in day wise manner.\n",
    "Step6 - Copy the URL of the Folder of that day and paste in the Assignment Submission Form (Google Form)"
   ]
  }
 ],
 "metadata": {
  "kernelspec": {
   "display_name": "Python 3",
   "language": "python",
   "name": "python3"
  },
  "language_info": {
   "codemirror_mode": {
    "name": "ipython",
    "version": 3
   },
   "file_extension": ".py",
   "mimetype": "text/x-python",
   "name": "python",
   "nbconvert_exporter": "python",
   "pygments_lexer": "ipython3",
   "version": "3.7.6"
  }
 },
 "nbformat": 4,
 "nbformat_minor": 4
}
